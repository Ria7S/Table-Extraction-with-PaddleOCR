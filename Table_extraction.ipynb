{
  "nbformat": 4,
  "nbformat_minor": 0,
  "metadata": {
    "colab": {
      "provenance": []
    },
    "kernelspec": {
      "name": "python3",
      "display_name": "Python 3"
    },
    "language_info": {
      "name": "python"
    }
  },
  "cells": [
    {
      "cell_type": "code",
      "execution_count": 1,
      "metadata": {
        "colab": {
          "base_uri": "https://localhost:8080/"
        },
        "id": "or8f1KN3otc8",
        "outputId": "5fb37bc3-44f6-430c-84a6-f6dd8cbfe102"
      },
      "outputs": [
        {
          "output_type": "stream",
          "name": "stdout",
          "text": [
            "Collecting paddlepaddle\n",
            "  Downloading paddlepaddle-2.6.1-cp310-cp310-manylinux1_x86_64.whl (125.9 MB)\n",
            "\u001b[2K     \u001b[90m━━━━━━━━━━━━━━━━━━━━━━━━━━━━━━━━━━━━━━━━\u001b[0m \u001b[32m125.9/125.9 MB\u001b[0m \u001b[31m8.3 MB/s\u001b[0m eta \u001b[36m0:00:00\u001b[0m\n",
            "\u001b[?25hCollecting paddleocr\n",
            "  Downloading paddleocr-2.8.0-py3-none-any.whl (407 kB)\n",
            "\u001b[2K     \u001b[90m━━━━━━━━━━━━━━━━━━━━━━━━━━━━━━━━━━━━━━━━\u001b[0m \u001b[32m407.3/407.3 kB\u001b[0m \u001b[31m37.2 MB/s\u001b[0m eta \u001b[36m0:00:00\u001b[0m\n",
            "\u001b[?25hCollecting httpx (from paddlepaddle)\n",
            "  Downloading httpx-0.27.0-py3-none-any.whl (75 kB)\n",
            "\u001b[2K     \u001b[90m━━━━━━━━━━━━━━━━━━━━━━━━━━━━━━━━━━━━━━━━\u001b[0m \u001b[32m75.6/75.6 kB\u001b[0m \u001b[31m8.8 MB/s\u001b[0m eta \u001b[36m0:00:00\u001b[0m\n",
            "\u001b[?25hRequirement already satisfied: numpy>=1.13 in /usr/local/lib/python3.10/dist-packages (from paddlepaddle) (1.25.2)\n",
            "Requirement already satisfied: Pillow in /usr/local/lib/python3.10/dist-packages (from paddlepaddle) (9.4.0)\n",
            "Requirement already satisfied: decorator in /usr/local/lib/python3.10/dist-packages (from paddlepaddle) (4.4.2)\n",
            "Collecting astor (from paddlepaddle)\n",
            "  Downloading astor-0.8.1-py2.py3-none-any.whl (27 kB)\n",
            "Requirement already satisfied: opt-einsum==3.3.0 in /usr/local/lib/python3.10/dist-packages (from paddlepaddle) (3.3.0)\n",
            "Requirement already satisfied: protobuf>=3.20.2 in /usr/local/lib/python3.10/dist-packages (from paddlepaddle) (3.20.3)\n",
            "Requirement already satisfied: shapely in /usr/local/lib/python3.10/dist-packages (from paddleocr) (2.0.4)\n",
            "Requirement already satisfied: scikit-image in /usr/local/lib/python3.10/dist-packages (from paddleocr) (0.19.3)\n",
            "Requirement already satisfied: imgaug in /usr/local/lib/python3.10/dist-packages (from paddleocr) (0.4.0)\n",
            "Collecting pyclipper (from paddleocr)\n",
            "  Downloading pyclipper-1.3.0.post5-cp310-cp310-manylinux_2_12_x86_64.manylinux2010_x86_64.whl (908 kB)\n",
            "\u001b[2K     \u001b[90m━━━━━━━━━━━━━━━━━━━━━━━━━━━━━━━━━━━━━━━━\u001b[0m \u001b[32m908.3/908.3 kB\u001b[0m \u001b[31m32.7 MB/s\u001b[0m eta \u001b[36m0:00:00\u001b[0m\n",
            "\u001b[?25hCollecting lmdb (from paddleocr)\n",
            "  Downloading lmdb-1.5.1-cp310-cp310-manylinux_2_17_x86_64.manylinux2014_x86_64.whl (294 kB)\n",
            "\u001b[2K     \u001b[90m━━━━━━━━━━━━━━━━━━━━━━━━━━━━━━━━━━━━━━━━\u001b[0m \u001b[32m294.9/294.9 kB\u001b[0m \u001b[31m22.2 MB/s\u001b[0m eta \u001b[36m0:00:00\u001b[0m\n",
            "\u001b[?25hRequirement already satisfied: tqdm in /usr/local/lib/python3.10/dist-packages (from paddleocr) (4.66.4)\n",
            "Collecting rapidfuzz (from paddleocr)\n",
            "  Downloading rapidfuzz-3.9.4-cp310-cp310-manylinux_2_17_x86_64.manylinux2014_x86_64.whl (3.4 MB)\n",
            "\u001b[2K     \u001b[90m━━━━━━━━━━━━━━━━━━━━━━━━━━━━━━━━━━━━━━━━\u001b[0m \u001b[32m3.4/3.4 MB\u001b[0m \u001b[31m52.4 MB/s\u001b[0m eta \u001b[36m0:00:00\u001b[0m\n",
            "\u001b[?25hRequirement already satisfied: opencv-python in /usr/local/lib/python3.10/dist-packages (from paddleocr) (4.8.0.76)\n",
            "Requirement already satisfied: opencv-contrib-python in /usr/local/lib/python3.10/dist-packages (from paddleocr) (4.8.0.76)\n",
            "Requirement already satisfied: cython in /usr/local/lib/python3.10/dist-packages (from paddleocr) (3.0.10)\n",
            "Requirement already satisfied: pyyaml in /usr/local/lib/python3.10/dist-packages (from paddleocr) (6.0.1)\n",
            "Collecting python-docx (from paddleocr)\n",
            "  Downloading python_docx-1.1.2-py3-none-any.whl (244 kB)\n",
            "\u001b[2K     \u001b[90m━━━━━━━━━━━━━━━━━━━━━━━━━━━━━━━━━━━━━━━━\u001b[0m \u001b[32m244.3/244.3 kB\u001b[0m \u001b[31m21.8 MB/s\u001b[0m eta \u001b[36m0:00:00\u001b[0m\n",
            "\u001b[?25hRequirement already satisfied: beautifulsoup4 in /usr/local/lib/python3.10/dist-packages (from paddleocr) (4.12.3)\n",
            "Requirement already satisfied: fonttools>=4.24.0 in /usr/local/lib/python3.10/dist-packages (from paddleocr) (4.53.0)\n",
            "Collecting fire>=0.3.0 (from paddleocr)\n",
            "  Downloading fire-0.6.0.tar.gz (88 kB)\n",
            "\u001b[2K     \u001b[90m━━━━━━━━━━━━━━━━━━━━━━━━━━━━━━━━━━━━━━━━\u001b[0m \u001b[32m88.4/88.4 kB\u001b[0m \u001b[31m13.8 MB/s\u001b[0m eta \u001b[36m0:00:00\u001b[0m\n",
            "\u001b[?25h  Preparing metadata (setup.py) ... \u001b[?25l\u001b[?25hdone\n",
            "Requirement already satisfied: six in /usr/local/lib/python3.10/dist-packages (from fire>=0.3.0->paddleocr) (1.16.0)\n",
            "Requirement already satisfied: termcolor in /usr/local/lib/python3.10/dist-packages (from fire>=0.3.0->paddleocr) (2.4.0)\n",
            "Requirement already satisfied: soupsieve>1.2 in /usr/local/lib/python3.10/dist-packages (from beautifulsoup4->paddleocr) (2.5)\n",
            "Requirement already satisfied: anyio in /usr/local/lib/python3.10/dist-packages (from httpx->paddlepaddle) (3.7.1)\n",
            "Requirement already satisfied: certifi in /usr/local/lib/python3.10/dist-packages (from httpx->paddlepaddle) (2024.6.2)\n",
            "Collecting httpcore==1.* (from httpx->paddlepaddle)\n",
            "  Downloading httpcore-1.0.5-py3-none-any.whl (77 kB)\n",
            "\u001b[2K     \u001b[90m━━━━━━━━━━━━━━━━━━━━━━━━━━━━━━━━━━━━━━━━\u001b[0m \u001b[32m77.9/77.9 kB\u001b[0m \u001b[31m12.0 MB/s\u001b[0m eta \u001b[36m0:00:00\u001b[0m\n",
            "\u001b[?25hRequirement already satisfied: idna in /usr/local/lib/python3.10/dist-packages (from httpx->paddlepaddle) (3.7)\n",
            "Requirement already satisfied: sniffio in /usr/local/lib/python3.10/dist-packages (from httpx->paddlepaddle) (1.3.1)\n",
            "Collecting h11<0.15,>=0.13 (from httpcore==1.*->httpx->paddlepaddle)\n",
            "  Downloading h11-0.14.0-py3-none-any.whl (58 kB)\n",
            "\u001b[2K     \u001b[90m━━━━━━━━━━━━━━━━━━━━━━━━━━━━━━━━━━━━━━━━\u001b[0m \u001b[32m58.3/58.3 kB\u001b[0m \u001b[31m5.3 MB/s\u001b[0m eta \u001b[36m0:00:00\u001b[0m\n",
            "\u001b[?25hRequirement already satisfied: scipy in /usr/local/lib/python3.10/dist-packages (from imgaug->paddleocr) (1.11.4)\n",
            "Requirement already satisfied: matplotlib in /usr/local/lib/python3.10/dist-packages (from imgaug->paddleocr) (3.7.1)\n",
            "Requirement already satisfied: imageio in /usr/local/lib/python3.10/dist-packages (from imgaug->paddleocr) (2.31.6)\n",
            "Requirement already satisfied: networkx>=2.2 in /usr/local/lib/python3.10/dist-packages (from scikit-image->paddleocr) (3.3)\n",
            "Requirement already satisfied: tifffile>=2019.7.26 in /usr/local/lib/python3.10/dist-packages (from scikit-image->paddleocr) (2024.6.18)\n",
            "Requirement already satisfied: PyWavelets>=1.1.1 in /usr/local/lib/python3.10/dist-packages (from scikit-image->paddleocr) (1.6.0)\n",
            "Requirement already satisfied: packaging>=20.0 in /usr/local/lib/python3.10/dist-packages (from scikit-image->paddleocr) (24.1)\n",
            "Requirement already satisfied: lxml>=3.1.0 in /usr/local/lib/python3.10/dist-packages (from python-docx->paddleocr) (4.9.4)\n",
            "Requirement already satisfied: typing-extensions>=4.9.0 in /usr/local/lib/python3.10/dist-packages (from python-docx->paddleocr) (4.12.2)\n",
            "Requirement already satisfied: exceptiongroup in /usr/local/lib/python3.10/dist-packages (from anyio->httpx->paddlepaddle) (1.2.1)\n",
            "Requirement already satisfied: contourpy>=1.0.1 in /usr/local/lib/python3.10/dist-packages (from matplotlib->imgaug->paddleocr) (1.2.1)\n",
            "Requirement already satisfied: cycler>=0.10 in /usr/local/lib/python3.10/dist-packages (from matplotlib->imgaug->paddleocr) (0.12.1)\n",
            "Requirement already satisfied: kiwisolver>=1.0.1 in /usr/local/lib/python3.10/dist-packages (from matplotlib->imgaug->paddleocr) (1.4.5)\n",
            "Requirement already satisfied: pyparsing>=2.3.1 in /usr/local/lib/python3.10/dist-packages (from matplotlib->imgaug->paddleocr) (3.1.2)\n",
            "Requirement already satisfied: python-dateutil>=2.7 in /usr/local/lib/python3.10/dist-packages (from matplotlib->imgaug->paddleocr) (2.8.2)\n",
            "Building wheels for collected packages: fire\n",
            "  Building wheel for fire (setup.py) ... \u001b[?25l\u001b[?25hdone\n",
            "  Created wheel for fire: filename=fire-0.6.0-py2.py3-none-any.whl size=117029 sha256=9bb5c0971a2c204ea2abc0b63d1def06ee4b91a7a5f49c9c2e89f7dea9b9c26b\n",
            "  Stored in directory: /root/.cache/pip/wheels/d6/6d/5d/5b73fa0f46d01a793713f8859201361e9e581ced8c75e5c6a3\n",
            "Successfully built fire\n",
            "Installing collected packages: pyclipper, lmdb, rapidfuzz, python-docx, h11, fire, astor, httpcore, httpx, paddlepaddle, paddleocr\n",
            "Successfully installed astor-0.8.1 fire-0.6.0 h11-0.14.0 httpcore-1.0.5 httpx-0.27.0 lmdb-1.5.1 paddleocr-2.8.0 paddlepaddle-2.6.1 pyclipper-1.3.0.post5 python-docx-1.1.2 rapidfuzz-3.9.4\n"
          ]
        }
      ],
      "source": [
        "pip install paddlepaddle paddleocr\n"
      ]
    },
    {
      "cell_type": "code",
      "source": [
        "!wget https://paddleocr.bj.bcebos.com/whl/layoutparser-0.0.0-py3-none-any.whl\n",
        "!pip install -U layoutparser-0.0.0-py3-none-any.whl\n",
        "import layoutparser as lp"
      ],
      "metadata": {
        "colab": {
          "base_uri": "https://localhost:8080/"
        },
        "id": "TVxQ_Dtod3_v",
        "outputId": "085499ba-e48a-4e7e-e72b-0d68f5e7c220"
      },
      "execution_count": 2,
      "outputs": [
        {
          "output_type": "stream",
          "name": "stdout",
          "text": [
            "--2024-07-05 11:09:46--  https://paddleocr.bj.bcebos.com/whl/layoutparser-0.0.0-py3-none-any.whl\n",
            "Resolving paddleocr.bj.bcebos.com (paddleocr.bj.bcebos.com)... 103.235.47.176, 2409:8c04:1001:1203:0:ff:b0bb:4f27\n",
            "Connecting to paddleocr.bj.bcebos.com (paddleocr.bj.bcebos.com)|103.235.47.176|:443... connected.\n",
            "HTTP request sent, awaiting response... 200 OK\n",
            "Length: 19145360 (18M) [application/octet-stream]\n",
            "Saving to: ‘layoutparser-0.0.0-py3-none-any.whl’\n",
            "\n",
            "layoutparser-0.0.0- 100%[===================>]  18.26M  4.97MB/s    in 17s     \n",
            "\n",
            "2024-07-05 11:10:05 (1.07 MB/s) - ‘layoutparser-0.0.0-py3-none-any.whl’ saved [19145360/19145360]\n",
            "\n",
            "Processing ./layoutparser-0.0.0-py3-none-any.whl\n",
            "Requirement already satisfied: numpy in /usr/local/lib/python3.10/dist-packages (from layoutparser==0.0.0) (1.25.2)\n",
            "Requirement already satisfied: opencv-python in /usr/local/lib/python3.10/dist-packages (from layoutparser==0.0.0) (4.8.0.76)\n",
            "Requirement already satisfied: pandas in /usr/local/lib/python3.10/dist-packages (from layoutparser==0.0.0) (2.0.3)\n",
            "Requirement already satisfied: pillow in /usr/local/lib/python3.10/dist-packages (from layoutparser==0.0.0) (9.4.0)\n",
            "Requirement already satisfied: pyyaml>=5.1 in /usr/local/lib/python3.10/dist-packages (from layoutparser==0.0.0) (6.0.1)\n",
            "Collecting iopath (from layoutparser==0.0.0)\n",
            "  Downloading iopath-0.1.10.tar.gz (42 kB)\n",
            "\u001b[2K     \u001b[90m━━━━━━━━━━━━━━━━━━━━━━━━━━━━━━━━━━━━━━━━\u001b[0m \u001b[32m42.2/42.2 kB\u001b[0m \u001b[31m1.7 MB/s\u001b[0m eta \u001b[36m0:00:00\u001b[0m\n",
            "\u001b[?25h  Preparing metadata (setup.py) ... \u001b[?25l\u001b[?25hdone\n",
            "Requirement already satisfied: tqdm in /usr/local/lib/python3.10/dist-packages (from layoutparser==0.0.0) (4.66.4)\n",
            "Requirement already satisfied: typing_extensions in /usr/local/lib/python3.10/dist-packages (from iopath->layoutparser==0.0.0) (4.12.2)\n",
            "Collecting portalocker (from iopath->layoutparser==0.0.0)\n",
            "  Downloading portalocker-2.10.0-py3-none-any.whl (18 kB)\n",
            "Requirement already satisfied: python-dateutil>=2.8.2 in /usr/local/lib/python3.10/dist-packages (from pandas->layoutparser==0.0.0) (2.8.2)\n",
            "Requirement already satisfied: pytz>=2020.1 in /usr/local/lib/python3.10/dist-packages (from pandas->layoutparser==0.0.0) (2023.4)\n",
            "Requirement already satisfied: tzdata>=2022.1 in /usr/local/lib/python3.10/dist-packages (from pandas->layoutparser==0.0.0) (2024.1)\n",
            "Requirement already satisfied: six>=1.5 in /usr/local/lib/python3.10/dist-packages (from python-dateutil>=2.8.2->pandas->layoutparser==0.0.0) (1.16.0)\n",
            "Building wheels for collected packages: iopath\n",
            "  Building wheel for iopath (setup.py) ... \u001b[?25l\u001b[?25hdone\n",
            "  Created wheel for iopath: filename=iopath-0.1.10-py3-none-any.whl size=31532 sha256=8f9a7f7261b93cd551fdc9d28c31bc36e8781a38d8dfedd5fc4d8af2cf965931\n",
            "  Stored in directory: /root/.cache/pip/wheels/9a/a3/b6/ac0fcd1b4ed5cfeb3db92e6a0e476cfd48ed0df92b91080c1d\n",
            "Successfully built iopath\n",
            "Installing collected packages: portalocker, iopath, layoutparser\n",
            "Successfully installed iopath-0.1.10 layoutparser-0.0.0 portalocker-2.10.0\n"
          ]
        }
      ]
    },
    {
      "cell_type": "code",
      "source": [
        "import cv2\n",
        "import layoutparser as lp\n",
        "import csv"
      ],
      "metadata": {
        "id": "X_vuvP7tpMc4"
      },
      "execution_count": 3,
      "outputs": []
    },
    {
      "cell_type": "code",
      "source": [
        "# Read the image\n",
        "image = cv2.imread('/content/image00003.jpg')\n",
        "image = image[... , ::-1]"
      ],
      "metadata": {
        "id": "EiNmEv7TqXPG"
      },
      "execution_count": 4,
      "outputs": []
    },
    {
      "cell_type": "markdown",
      "source": [
        "# Layout Extraction"
      ],
      "metadata": {
        "id": "pbdgfhc-jgF6"
      }
    },
    {
      "cell_type": "code",
      "source": [
        "#load model\n",
        "model = lp.PaddleDetectionLayoutModel(config_path=\"lp://PubLayNet/ppyolov2_r50vd_dcn_365e_publaynet/config\",\n",
        "                                      threshold=0.5,\n",
        "                                      label_map = {0:\"Text\", 1:\"Title\", 2:\"List\",3:\"Table\", 4:\"Figure\"},\n",
        "                                      enforce_cpu=False,\n",
        "                                      enable_mkldnn=True)\n",
        "\n",
        "#detect\n",
        "layout = model.detect(image)\n"
      ],
      "metadata": {
        "colab": {
          "base_uri": "https://localhost:8080/"
        },
        "id": "gwih8s3Eh540",
        "outputId": "9cdf6cb2-2d18-4cdd-d682-ea0eaa4b716f"
      },
      "execution_count": 5,
      "outputs": [
        {
          "output_type": "stream",
          "name": "stdout",
          "text": [
            "download https://paddle-model-ecology.bj.bcebos.com/model/layout-parser/ppyolov2_r50vd_dcn_365e_publaynet.tar to /root/.paddledet/inference_model/ppyolov2_r50vd_dcn_365e_publaynet/ppyolov2_r50vd_dcn_365e_publaynet_infer/ppyolov2_r50vd_dcn_365e_publaynet.tar\n"
          ]
        },
        {
          "output_type": "stream",
          "name": "stderr",
          "text": [
            "100%|██████████| 221M/221M [00:10<00:00, 20.1MiB/s]\n"
          ]
        }
      ]
    },
    {
      "cell_type": "code",
      "source": [
        "layout"
      ],
      "metadata": {
        "colab": {
          "base_uri": "https://localhost:8080/"
        },
        "id": "qDewlmZujDZP",
        "outputId": "0adde9f7-d991-4d34-ed97-0afc21c9c222"
      },
      "execution_count": 6,
      "outputs": [
        {
          "output_type": "execute_result",
          "data": {
            "text/plain": [
              "Layout(_blocks=[TextBlock(block=Rectangle(x_1=1.781463623046875, y_1=32.877593994140625, x_2=854.0, y_2=580.54833984375), text=None, id=None, type=Table, parent=None, next=None, score=0.969436764717102), TextBlock(block=Rectangle(x_1=13.390571594238281, y_1=34.154441833496094, x_2=57.02571105957031, y_2=44.852439880371094), text=None, id=None, type=Text, parent=None, next=None, score=0.7575470209121704)], page_data={})"
            ]
          },
          "metadata": {},
          "execution_count": 6
        }
      ]
    },
    {
      "cell_type": "code",
      "source": [
        "x_1=1.781463623046875\n",
        "y_1=32.877593994140625\n",
        "\n",
        "x_2=854.0\n",
        "y_2=580.54833984375"
      ],
      "metadata": {
        "id": "Bze0PcApjpun"
      },
      "execution_count": 7,
      "outputs": []
    },
    {
      "cell_type": "code",
      "source": [
        "for l in layout:\n",
        "  if l.type == 'Table':\n",
        "    x_1 = int(l.block.x_1)\n",
        "    x_2 = int(l.block.x_2)\n",
        "    y_1 = int(l.block.y_1)\n",
        "    y_2 = int(l.block.y_2)\n",
        "\n",
        "    break\n"
      ],
      "metadata": {
        "id": "0-utiSTzmGFM"
      },
      "execution_count": 8,
      "outputs": []
    },
    {
      "cell_type": "code",
      "source": [
        "print(x_1,y_1,x_2,y_2)"
      ],
      "metadata": {
        "colab": {
          "base_uri": "https://localhost:8080/"
        },
        "id": "geMXdcfjmPog",
        "outputId": "327ea04a-cc15-4a16-9975-640d2b1400e5"
      },
      "execution_count": 9,
      "outputs": [
        {
          "output_type": "stream",
          "name": "stdout",
          "text": [
            "1 32 854 580\n"
          ]
        }
      ]
    },
    {
      "cell_type": "code",
      "source": [
        "im = cv2.imread('/content/image00003.jpg')"
      ],
      "metadata": {
        "id": "U46CBoGQnEpw"
      },
      "execution_count": 10,
      "outputs": []
    },
    {
      "cell_type": "code",
      "source": [
        "cv2.imwrite('ext_im.jpg', im[y_1:y_2, x_1:x_2])"
      ],
      "metadata": {
        "colab": {
          "base_uri": "https://localhost:8080/"
        },
        "id": "vuuqAbiHnWUI",
        "outputId": "9e55084b-cd9c-4ae5-83a4-130b9b063205"
      },
      "execution_count": 11,
      "outputs": [
        {
          "output_type": "execute_result",
          "data": {
            "text/plain": [
              "True"
            ]
          },
          "metadata": {},
          "execution_count": 11
        }
      ]
    },
    {
      "cell_type": "markdown",
      "source": [
        "# Text Detection"
      ],
      "metadata": {
        "id": "SXONvcp4oAPx"
      }
    },
    {
      "cell_type": "code",
      "source": [
        "from paddleocr import PaddleOCR, draw_ocr"
      ],
      "metadata": {
        "id": "0rPhq-2EnlG_"
      },
      "execution_count": 12,
      "outputs": []
    },
    {
      "cell_type": "code",
      "source": [
        "ocr = PaddleOCR(lang = 'en')\n",
        "image_path = '/content/ext_im.jpg'\n",
        "image_cv = cv2.imread(image_path)\n",
        "image_height = image_cv.shape[0]\n",
        "image_width = image_cv.shape[1]\n",
        "output = ocr.ocr(image_path)"
      ],
      "metadata": {
        "colab": {
          "base_uri": "https://localhost:8080/"
        },
        "id": "s4xRNH8joUVV",
        "outputId": "f8747aef-f113-451e-cd31-04fb6ab7f219"
      },
      "execution_count": 13,
      "outputs": [
        {
          "output_type": "stream",
          "name": "stdout",
          "text": [
            "download https://paddleocr.bj.bcebos.com/PP-OCRv3/english/en_PP-OCRv3_det_infer.tar to /root/.paddleocr/whl/det/en/en_PP-OCRv3_det_infer/en_PP-OCRv3_det_infer.tar\n"
          ]
        },
        {
          "output_type": "stream",
          "name": "stderr",
          "text": [
            "100%|██████████| 4.00M/4.00M [00:08<00:00, 482kiB/s] \n"
          ]
        },
        {
          "output_type": "stream",
          "name": "stdout",
          "text": [
            "download https://paddleocr.bj.bcebos.com/PP-OCRv4/english/en_PP-OCRv4_rec_infer.tar to /root/.paddleocr/whl/rec/en/en_PP-OCRv4_rec_infer/en_PP-OCRv4_rec_infer.tar\n"
          ]
        },
        {
          "output_type": "stream",
          "name": "stderr",
          "text": [
            "100%|██████████| 10.2M/10.2M [00:15<00:00, 654kiB/s] \n"
          ]
        },
        {
          "output_type": "stream",
          "name": "stdout",
          "text": [
            "download https://paddleocr.bj.bcebos.com/dygraph_v2.0/ch/ch_ppocr_mobile_v2.0_cls_infer.tar to /root/.paddleocr/whl/cls/ch_ppocr_mobile_v2.0_cls_infer/ch_ppocr_mobile_v2.0_cls_infer.tar\n"
          ]
        },
        {
          "output_type": "stream",
          "name": "stderr",
          "text": [
            "100%|██████████| 2.19M/2.19M [00:01<00:00, 1.88MiB/s]"
          ]
        },
        {
          "output_type": "stream",
          "name": "stdout",
          "text": [
            "[2024/07/05 11:11:39] ppocr DEBUG: Namespace(help='==SUPPRESS==', use_gpu=False, use_xpu=False, use_npu=False, use_mlu=False, ir_optim=True, use_tensorrt=False, min_subgraph_size=15, precision='fp32', gpu_mem=500, gpu_id=0, image_dir=None, page_num=0, det_algorithm='DB', det_model_dir='/root/.paddleocr/whl/det/en/en_PP-OCRv3_det_infer', det_limit_side_len=960, det_limit_type='max', det_box_type='quad', det_db_thresh=0.3, det_db_box_thresh=0.6, det_db_unclip_ratio=1.5, max_batch_size=10, use_dilation=False, det_db_score_mode='fast', det_east_score_thresh=0.8, det_east_cover_thresh=0.1, det_east_nms_thresh=0.2, det_sast_score_thresh=0.5, det_sast_nms_thresh=0.2, det_pse_thresh=0, det_pse_box_thresh=0.85, det_pse_min_area=16, det_pse_scale=1, scales=[8, 16, 32], alpha=1.0, beta=1.0, fourier_degree=5, rec_algorithm='SVTR_LCNet', rec_model_dir='/root/.paddleocr/whl/rec/en/en_PP-OCRv4_rec_infer', rec_image_inverse=True, rec_image_shape='3, 48, 320', rec_batch_num=6, max_text_length=25, rec_char_dict_path='/usr/local/lib/python3.10/dist-packages/paddleocr/ppocr/utils/en_dict.txt', use_space_char=True, vis_font_path='./doc/fonts/simfang.ttf', drop_score=0.5, e2e_algorithm='PGNet', e2e_model_dir=None, e2e_limit_side_len=768, e2e_limit_type='max', e2e_pgnet_score_thresh=0.5, e2e_char_dict_path='./ppocr/utils/ic15_dict.txt', e2e_pgnet_valid_set='totaltext', e2e_pgnet_mode='fast', use_angle_cls=False, cls_model_dir='/root/.paddleocr/whl/cls/ch_ppocr_mobile_v2.0_cls_infer', cls_image_shape='3, 48, 192', label_list=['0', '180'], cls_batch_num=6, cls_thresh=0.9, enable_mkldnn=False, cpu_threads=10, use_pdserving=False, warmup=False, sr_model_dir=None, sr_image_shape='3, 32, 128', sr_batch_num=1, draw_img_save_dir='./inference_results', save_crop_res=False, crop_res_save_dir='./output', use_mp=False, total_process_num=1, process_id=0, benchmark=False, save_log_path='./log_output/', show_log=True, use_onnx=False, return_word_box=False, output='./output', table_max_len=488, table_algorithm='TableAttn', table_model_dir=None, merge_no_span_structure=True, table_char_dict_path=None, layout_model_dir=None, layout_dict_path=None, layout_score_threshold=0.5, layout_nms_threshold=0.5, kie_algorithm='LayoutXLM', ser_model_dir=None, re_model_dir=None, use_visual_backbone=True, ser_dict_path='../train_data/XFUND/class_list_xfun.txt', ocr_order_method=None, mode='structure', image_orientation=False, layout=True, table=True, ocr=True, recovery=False, use_pdf2docx_api=False, invert=False, binarize=False, alphacolor=(255, 255, 255), lang='en', det=True, rec=True, type='ocr', savefile=False, ocr_version='PP-OCRv4', structure_version='PP-StructureV2')\n"
          ]
        },
        {
          "output_type": "stream",
          "name": "stderr",
          "text": [
            "\n"
          ]
        },
        {
          "output_type": "stream",
          "name": "stdout",
          "text": [
            "[2024/07/05 11:11:41] ppocr WARNING: Since the angle classifier is not initialized, it will not be used during the forward process\n",
            "[2024/07/05 11:11:41] ppocr DEBUG: dt_boxes num : 114, elapsed : 0.5532631874084473\n",
            "[2024/07/05 11:11:49] ppocr DEBUG: rec_res num  : 114, elapsed : 7.361172199249268\n"
          ]
        }
      ]
    },
    {
      "cell_type": "code",
      "source": [
        "print(output)"
      ],
      "metadata": {
        "colab": {
          "base_uri": "https://localhost:8080/"
        },
        "id": "jmryhbq4ocRA",
        "outputId": "237155a9-bb7d-4487-a4ea-ec4f71141ff0"
      },
      "execution_count": 14,
      "outputs": [
        {
          "output_type": "stream",
          "name": "stdout",
          "text": [
            "[[[[[12.0, 1.0], [56.0, 1.0], [56.0, 12.0], [12.0, 12.0]], ('(Unaudited)', 0.9932512044906616)], [[[11.0, 11.0], [60.0, 11.0], [60.0, 22.0], [11.0, 22.0]], ('(in  millions)', 0.8574824333190918)], [[[652.0, 25.0], [711.0, 25.0], [711.0, 36.0], [652.0, 36.0]], ('March 31.2024', 0.9229317307472229)], [[[757.0, 25.0], [830.0, 25.0], [830.0, 36.0], [757.0, 36.0]], ('December 31,2023', 0.9428852796554565)], [[[8.0, 38.0], [39.0, 38.0], [39.0, 49.0], [8.0, 49.0]], ('Assets', 0.9960313439369202)], [[[10.0, 50.0], [84.0, 50.0], [84.0, 60.0], [10.0, 60.0]], ('Non-current assets', 0.9948820471763611)], [[[9.0, 61.0], [99.0, 61.0], [99.0, 72.0], [9.0, 72.0]], ('Lease right-of-use assels', 0.9401053786277771)], [[[717.0, 60.0], [734.0, 60.0], [734.0, 73.0], [717.0, 73.0]], ('274', 0.9972752928733826)], [[[830.0, 60.0], [846.0, 60.0], [846.0, 73.0], [830.0, 73.0]], ('300', 0.9977557063102722)], [[[9.0, 74.0], [96.0, 74.0], [96.0, 84.0], [9.0, 84.0]], ('Property and equipment', 0.9813849925994873)], [[[709.0, 79.0], [734.0, 82.0], [732.0, 97.0], [707.0, 94.0]], ('1,159', 0.9213554263114929)], [[[716.0, 71.0], [734.0, 71.0], [734.0, 84.0], [716.0, 84.0]], ('224', 0.9351210594177246)], [[[828.0, 72.0], [846.0, 72.0], [846.0, 85.0], [828.0, 85.0]], ('247', 0.9988246560096741)], [[[9.0, 82.0], [42.0, 86.0], [41.0, 97.0], [8.0, 93.0]], ('Goodwill', 0.9534206986427307)], [[[823.0, 84.0], [846.0, 84.0], [846.0, 96.0], [823.0, 96.0]], ('1,137', 0.9658913612365723)], [[[9.0, 97.0], [71.0, 97.0], [71.0, 107.0], [9.0, 107.0]], ('Intangible assets', 0.9993224143981934)], [[[719.0, 95.0], [734.0, 95.0], [734.0, 107.0], [719.0, 107.0]], ('76', 0.994788646697998)], [[[832.0, 92.0], [848.0, 95.0], [845.0, 109.0], [829.0, 105.0]], ('84', 0.9421900510787964)], [[[7.0, 105.0], [93.0, 106.0], [93.0, 120.0], [7.0, 119.0]], ('Long lerm investnents', 0.9346073865890503)], [[[710.0, 107.0], [733.0, 107.0], [733.0, 119.0], [710.0, 119.0]], ('1,534', 0.9731670618057251)], [[[822.0, 105.0], [847.0, 105.0], [847.0, 120.0], [822.0, 120.0]], ('1.215', 0.907884955406189)], [[[8.0, 118.0], [170.0, 119.0], [170.0, 130.0], [8.0, 129.0]], ('Restricted cash and other non-current assets', 0.9958035945892334)], [[[720.0, 118.0], [734.0, 118.0], [734.0, 131.0], [720.0, 131.0]], ('72', 0.9991451501846313)], [[[831.0, 118.0], [847.0, 118.0], [847.0, 132.0], [831.0, 132.0]], ('75', 0.9980977177619934)], [[[8.0, 129.0], [103.0, 130.0], [103.0, 141.0], [8.0, 140.0]], ('Finance lease receivables', 0.9599453210830688)], [[[720.0, 129.0], [735.0, 129.0], [735.0, 142.0], [720.0, 142.0]], ('51', 0.9900764226913452)], [[[8.0, 141.0], [81.0, 142.0], [81.0, 153.0], [8.0, 152.0]], ('Deferred tax assets', 0.9713701009750366)], [[[721.0, 141.0], [735.0, 141.0], [735.0, 154.0], [721.0, 154.0]], ('41', 0.9970821738243103)], [[[832.0, 140.0], [847.0, 140.0], [847.0, 154.0], [832.0, 154.0]], ('28', 0.9943497180938721)], [[[711.0, 154.0], [735.0, 154.0], [735.0, 166.0], [711.0, 166.0]], ('3,431', 0.9724416732788086)], [[[824.0, 154.0], [848.0, 154.0], [848.0, 166.0], [824.0, 166.0]], ('3,086', 0.9343867301940918)], [[[9.0, 164.0], [66.0, 164.0], [66.0, 175.0], [9.0, 175.0]], ('Current assets', 0.9984044432640076)], [[[8.0, 176.0], [112.0, 176.0], [112.0, 189.0], [8.0, 189.0]], ('Trade and oter receivables', 0.9279416799545288)], [[[717.0, 176.0], [733.0, 176.0], [733.0, 188.0], [717.0, 188.0]], ('777', 0.9870858788490295)], [[[830.0, 176.0], [847.0, 176.0], [847.0, 189.0], [830.0, 189.0]], ('858', 0.9650581479072571)], [[[9.0, 188.0], [89.0, 188.0], [89.0, 198.0], [9.0, 198.0]], ('Income tax receivable', 0.9888592958450317)], [[[719.0, 187.0], [733.0, 187.0], [733.0, 199.0], [719.0, 199.0]], ('21', 0.9959907531738281)], [[[833.0, 185.0], [848.0, 188.0], [845.0, 201.0], [830.0, 198.0]], ('20', 0.9919002056121826)], [[[9.0, 199.0], [91.0, 199.0], [91.0, 210.0], [9.0, 210.0]], ('Short term invesiments', 0.9760351777076721)], [[[711.0, 199.0], [733.0, 199.0], [733.0, 212.0], [711.0, 212.0]], ('1.220', 0.8715904951095581)], [[[823.0, 199.0], [847.0, 199.0], [847.0, 212.0], [823.0, 212.0]], ('1,100', 0.8464950323104858)], [[[9.0, 212.0], [107.0, 212.0], [107.0, 222.0], [9.0, 222.0]], ('Cash and cash equivalents', 0.9991662502288818)], [[[710.0, 212.0], [733.0, 212.0], [733.0, 224.0], [710.0, 224.0]], ('3,451', 0.9563279151916504)], [[[822.0, 212.0], [846.0, 212.0], [846.0, 224.0], [822.0, 224.0]], ('3,114', 0.9807335138320923)], [[[9.0, 223.0], [85.0, 223.0], [85.0, 235.0], [9.0, 235.0]], ('Other current assets', 0.9928438067436218)], [[[716.0, 223.0], [734.0, 223.0], [734.0, 234.0], [716.0, 234.0]], ('175', 0.9977224469184875)], [[[830.0, 223.0], [847.0, 223.0], [847.0, 235.0], [830.0, 235.0]], ('168', 0.9040091633796692)], [[[710.0, 234.0], [735.0, 234.0], [735.0, 246.0], [710.0, 246.0]], ('5,644', 0.9978286623954773)], [[[824.0, 234.0], [847.0, 234.0], [847.0, 246.0], [824.0, 246.0]], ('5,260', 0.9962664842605591)], [[[8.0, 244.0], [57.0, 246.0], [57.0, 257.0], [8.0, 255.0]], ('Total assets', 0.9839063286781311)], [[[710.0, 246.0], [735.0, 246.0], [735.0, 258.0], [710.0, 258.0]], ('9,075', 0.9706128835678101)], [[[824.0, 246.0], [847.0, 246.0], [847.0, 258.0], [824.0, 258.0]], ('8,346', 0.9635285139083862)], [[[9.0, 258.0], [88.0, 258.0], [88.0, 268.0], [9.0, 268.0]], ('Equity and liabilities', 0.9967922568321228)], [[[9.0, 267.0], [37.0, 270.0], [35.0, 282.0], [7.0, 279.0]], ('Equity', 0.9857354760169983)], [[[9.0, 281.0], [59.0, 281.0], [59.0, 292.0], [9.0, 292.0]], ('Share capital', 0.9615055322647095)], [[[9.0, 292.0], [83.0, 292.0], [83.0, 303.0], [9.0, 303.0]], ('Other paid in capital', 0.98578280210495)], [[[710.0, 291.0], [733.0, 291.0], [733.0, 303.0], [710.0, 303.0]], ('5,397', 0.9776039123535156)], [[[822.0, 291.0], [847.0, 291.0], [847.0, 303.0], [822.0, 303.0]], ('5,155', 0.9371102452278137)], [[[9.0, 303.0], [69.0, 304.0], [69.0, 315.0], [9.0, 314.0]], ('Treasury shares', 0.997317910194397)], [[[713.0, 303.0], [736.0, 303.0], [736.0, 315.0], [713.0, 315.0]], ('(262)', 0.941334068775177)], [[[825.0, 303.0], [848.0, 303.0], [848.0, 315.0], [825.0, 315.0]], ('(262)', 0.8322588801383972)], [[[8.0, 314.0], [63.0, 315.0], [63.0, 326.0], [8.0, 325.0]], ('Other reserves', 0.9615825414657593)], [[[710.0, 314.0], [734.0, 314.0], [734.0, 326.0], [710.0, 326.0]], ('2,159', 0.9846630096435547)], [[[824.0, 314.0], [847.0, 314.0], [847.0, 326.0], [824.0, 326.0]], ('1,812', 0.9101912379264832)], [[[9.0, 327.0], [80.0, 327.0], [80.0, 337.0], [9.0, 337.0]], ('Accumulated deficit', 0.9516730904579163)], [[[706.0, 324.0], [736.0, 324.0], [736.0, 338.0], [706.0, 338.0]], ('(3,985)', 0.9875062108039856)], [[[821.0, 326.0], [849.0, 326.0], [849.0, 339.0], [821.0, 339.0]], ('(4,182)', 0.9285140633583069)], [[[8.0, 337.0], [172.0, 337.0], [172.0, 351.0], [8.0, 351.0]], ('Equity attributable to owners of the parent', 0.9855671525001526)], [[[711.0, 338.0], [734.0, 338.0], [734.0, 350.0], [711.0, 350.0]], ('3,309', 0.9557741284370422)], [[[823.0, 338.0], [848.0, 338.0], [848.0, 350.0], [823.0, 350.0]], ('2,523', 0.9588035345077515)], [[[9.0, 349.0], [93.0, 349.0], [93.0, 362.0], [9.0, 362.0]], ('Non-current liabilities', 0.9544631838798523)], [[[9.0, 362.0], [85.0, 362.0], [85.0, 372.0], [9.0, 372.0]], ('Exchangeable Notes', 0.9867331385612488)], [[[711.0, 360.0], [733.0, 360.0], [733.0, 372.0], [711.0, 372.0]], ('1,270', 0.941231369972229)], [[[822.0, 360.0], [848.0, 360.0], [848.0, 375.0], [822.0, 375.0]], ('1,203', 0.9598647356033325)], [[[9.0, 373.0], [65.0, 373.0], [65.0, 384.0], [9.0, 384.0]], ('Lease labilities', 0.921495258808136)], [[[716.0, 373.0], [734.0, 373.0], [734.0, 385.0], [716.0, 385.0]], ('493', 0.9984720349311829)], [[[829.0, 373.0], [847.0, 373.0], [847.0, 385.0], [829.0, 385.0]], ('493', 0.999057948589325)], [[[7.0, 383.0], [144.0, 384.0], [144.0, 397.0], [7.0, 396.0]], ('Accrued expenses and other liabilities', 0.9338178038597107)], [[[720.0, 383.0], [735.0, 383.0], [735.0, 396.0], [720.0, 396.0]], ('17', 0.9926445484161377)], [[[832.0, 384.0], [847.0, 384.0], [847.0, 397.0], [832.0, 397.0]], ('26', 0.9560576677322388)], [[[9.0, 396.0], [49.0, 396.0], [49.0, 406.0], [9.0, 406.0]], ('Provisions', 0.9956797361373901)], [[[725.0, 396.0], [734.0, 396.0], [734.0, 407.0], [725.0, 407.0]], ('3', 0.9955871105194092)], [[[837.0, 396.0], [846.0, 396.0], [846.0, 408.0], [837.0, 408.0]], ('3', 0.9968032836914062)], [[[8.0, 407.0], [87.0, 406.0], [87.0, 417.0], [8.0, 418.0]], ('Deferred tax labilfes', 0.8905225396156311)], [[[723.0, 408.0], [734.0, 408.0], [734.0, 417.0], [723.0, 417.0]], ('17', 0.9948563575744629)], [[[838.0, 407.0], [847.0, 407.0], [847.0, 418.0], [838.0, 418.0]], ('8', 0.8537546992301941)], [[[710.0, 419.0], [735.0, 419.0], [735.0, 430.0], [710.0, 430.0]], ('1.800', 0.9054549932479858)], [[[823.0, 419.0], [848.0, 419.0], [848.0, 431.0], [823.0, 431.0]], ('1,733', 0.9253360033035278)], [[[8.0, 429.0], [76.0, 429.0], [76.0, 440.0], [8.0, 440.0]], ('Current liabilities', 0.965420663356781)], [[[9.0, 442.0], [102.0, 442.0], [102.0, 452.0], [9.0, 452.0]], ('Trade and other payables', 0.9953548312187195)], [[[710.0, 441.0], [734.0, 441.0], [734.0, 453.0], [710.0, 453.0]], ('1,048', 0.9338531494140625)], [[[829.0, 441.0], [847.0, 441.0], [847.0, 454.0], [829.0, 454.0]], ('978', 0.9975805282592773)], [[[8.0, 452.0], [80.0, 453.0], [80.0, 464.0], [8.0, 463.0]], ('Income tax payable', 0.9408238530158997)], [[[720.0, 453.0], [734.0, 453.0], [734.0, 466.0], [720.0, 466.0]], ('14', 0.9972710013389587)], [[[832.0, 453.0], [847.0, 453.0], [847.0, 466.0], [832.0, 466.0]], ('12', 0.9972831010818481)], [[[9.0, 464.0], [74.0, 465.0], [74.0, 477.0], [9.0, 475.0]], ('Deferred revenue', 0.9398488402366638)], [[[716.0, 464.0], [734.0, 464.0], [734.0, 476.0], [716.0, 476.0]], ('634', 0.9949236512184143)], [[[829.0, 464.0], [846.0, 464.0], [846.0, 477.0], [829.0, 477.0]], ('622', 0.9971979260444641)], [[[8.0, 475.0], [145.0, 475.0], [145.0, 489.0], [8.0, 489.0]], ('Accrued expenses and other liabilities', 0.9616329073905945)], [[[710.0, 476.0], [733.0, 476.0], [733.0, 488.0], [710.0, 488.0]], ('2.228', 0.93138587474823)], [[[822.0, 474.0], [848.0, 474.0], [848.0, 490.0], [822.0, 490.0]], ('2,440', 0.9644569158554077)], [[[9.0, 489.0], [49.0, 489.0], [49.0, 499.0], [9.0, 499.0]], ('Provisions', 0.99955815076828)], [[[720.0, 488.0], [735.0, 488.0], [735.0, 501.0], [720.0, 501.0]], ('20', 0.9964700937271118)], [[[832.0, 487.0], [848.0, 487.0], [848.0, 512.0], [832.0, 512.0]], ('2', 0.5368595123291016)], [[[9.0, 500.0], [79.0, 500.0], [79.0, 511.0], [9.0, 511.0]], ('Denvalive liabiities', 0.9667917490005493)], [[[721.0, 498.0], [735.0, 498.0], [735.0, 511.0], [721.0, 511.0]], ('22', 0.9940425157546997)], [[[710.0, 511.0], [735.0, 511.0], [735.0, 523.0], [710.0, 523.0]], ('3,966', 0.9997458457946777)], [[[823.0, 511.0], [847.0, 511.0], [847.0, 523.0], [823.0, 523.0]], ('4,090', 0.9987909197807312)], [[[8.0, 523.0], [68.0, 523.0], [68.0, 534.0], [8.0, 534.0]], ('Total liabilities', 0.9474889039993286)], [[[710.0, 522.0], [734.0, 522.0], [734.0, 533.0], [710.0, 533.0]], ('5,766', 0.9685444831848145)], [[[824.0, 521.0], [847.0, 521.0], [847.0, 533.0], [824.0, 533.0]], ('5,823', 0.9612852334976196)], [[[8.0, 533.0], [109.0, 533.0], [109.0, 546.0], [8.0, 546.0]], ('Total equity and liabilities', 0.9913638234138489)], [[[710.0, 533.0], [735.0, 533.0], [735.0, 545.0], [710.0, 545.0]], ('9,075', 0.9981622695922852)], [[[823.0, 533.0], [847.0, 533.0], [847.0, 545.0], [823.0, 545.0]], ('8,346', 0.9994707107543945)]]]\n"
          ]
        }
      ]
    },
    {
      "cell_type": "code",
      "source": [
        "output[0][0]"
      ],
      "metadata": {
        "colab": {
          "base_uri": "https://localhost:8080/"
        },
        "id": "iaI1AJyOpNiQ",
        "outputId": "40a1f237-0345-4201-ef09-f66a88367e8b"
      },
      "execution_count": 15,
      "outputs": [
        {
          "output_type": "execute_result",
          "data": {
            "text/plain": [
              "[[[12.0, 1.0], [56.0, 1.0], [56.0, 12.0], [12.0, 12.0]],\n",
              " ('(Unaudited)', 0.9932512044906616)]"
            ]
          },
          "metadata": {},
          "execution_count": 15
        }
      ]
    },
    {
      "cell_type": "code",
      "source": [
        "text = [line[0][1][0] for line in output]\n",
        "for box in text:\n",
        "  print(box)"
      ],
      "metadata": {
        "colab": {
          "base_uri": "https://localhost:8080/"
        },
        "id": "mU7ckzFmprAB",
        "outputId": "e051c487-1919-46d2-956b-5212990ef201"
      },
      "execution_count": 16,
      "outputs": [
        {
          "output_type": "stream",
          "name": "stdout",
          "text": [
            "(Unaudited)\n"
          ]
        }
      ]
    },
    {
      "cell_type": "code",
      "source": [
        "boxes = [line[1][0] for line in output]\n",
        "for box in boxes:\n",
        "  print(box)"
      ],
      "metadata": {
        "colab": {
          "base_uri": "https://localhost:8080/"
        },
        "id": "bS6Y5Rb6Wd4m",
        "outputId": "443ea977-8119-484f-80a3-965549888c98"
      },
      "execution_count": null,
      "outputs": [
        {
          "output_type": "stream",
          "name": "stdout",
          "text": [
            "[[11.0, 11.0], [60.0, 11.0], [60.0, 22.0], [11.0, 22.0]]\n"
          ]
        }
      ]
    },
    {
      "cell_type": "code",
      "source": [
        "prob = [line[0][1][1] for line in output]\n",
        "for box in prob:\n",
        "  print(box)"
      ],
      "metadata": {
        "colab": {
          "base_uri": "https://localhost:8080/"
        },
        "id": "RMeBoaw8Ww1a",
        "outputId": "eef39e3e-f1c6-4f6d-cb96-d47fa1ddd309"
      },
      "execution_count": null,
      "outputs": [
        {
          "output_type": "stream",
          "name": "stdout",
          "text": [
            "0.9932512044906616\n"
          ]
        }
      ]
    },
    {
      "cell_type": "code",
      "source": [
        "boxes = [line[1][0] for line in output]\n",
        "text = [line[0][1][0] for line in output]\n",
        "prob = [line[0][1][1] for line in output]"
      ],
      "metadata": {
        "id": "OoW0jHgHXZ1-"
      },
      "execution_count": 17,
      "outputs": []
    },
    {
      "cell_type": "code",
      "source": [
        "boxes = [line[0] for line in output[0]]\n",
        "texts = [line[1][0] for line in output[0]]\n",
        "probs = [line[1][1] for line in output[0]]\n",
        "for box in boxes:\n",
        "  print(box)"
      ],
      "metadata": {
        "colab": {
          "base_uri": "https://localhost:8080/"
        },
        "id": "KwIiliGbYKDA",
        "outputId": "c1a5797b-9186-40d3-83f2-02273d1c4422"
      },
      "execution_count": 18,
      "outputs": [
        {
          "output_type": "stream",
          "name": "stdout",
          "text": [
            "[[12.0, 1.0], [56.0, 1.0], [56.0, 12.0], [12.0, 12.0]]\n",
            "[[11.0, 11.0], [60.0, 11.0], [60.0, 22.0], [11.0, 22.0]]\n",
            "[[652.0, 25.0], [711.0, 25.0], [711.0, 36.0], [652.0, 36.0]]\n",
            "[[757.0, 25.0], [830.0, 25.0], [830.0, 36.0], [757.0, 36.0]]\n",
            "[[8.0, 38.0], [39.0, 38.0], [39.0, 49.0], [8.0, 49.0]]\n",
            "[[10.0, 50.0], [84.0, 50.0], [84.0, 60.0], [10.0, 60.0]]\n",
            "[[9.0, 61.0], [99.0, 61.0], [99.0, 72.0], [9.0, 72.0]]\n",
            "[[717.0, 60.0], [734.0, 60.0], [734.0, 73.0], [717.0, 73.0]]\n",
            "[[830.0, 60.0], [846.0, 60.0], [846.0, 73.0], [830.0, 73.0]]\n",
            "[[9.0, 74.0], [96.0, 74.0], [96.0, 84.0], [9.0, 84.0]]\n",
            "[[709.0, 79.0], [734.0, 82.0], [732.0, 97.0], [707.0, 94.0]]\n",
            "[[716.0, 71.0], [734.0, 71.0], [734.0, 84.0], [716.0, 84.0]]\n",
            "[[828.0, 72.0], [846.0, 72.0], [846.0, 85.0], [828.0, 85.0]]\n",
            "[[9.0, 82.0], [42.0, 86.0], [41.0, 97.0], [8.0, 93.0]]\n",
            "[[823.0, 84.0], [846.0, 84.0], [846.0, 96.0], [823.0, 96.0]]\n",
            "[[9.0, 97.0], [71.0, 97.0], [71.0, 107.0], [9.0, 107.0]]\n",
            "[[719.0, 95.0], [734.0, 95.0], [734.0, 107.0], [719.0, 107.0]]\n",
            "[[832.0, 92.0], [848.0, 95.0], [845.0, 109.0], [829.0, 105.0]]\n",
            "[[7.0, 105.0], [93.0, 106.0], [93.0, 120.0], [7.0, 119.0]]\n",
            "[[710.0, 107.0], [733.0, 107.0], [733.0, 119.0], [710.0, 119.0]]\n",
            "[[822.0, 105.0], [847.0, 105.0], [847.0, 120.0], [822.0, 120.0]]\n",
            "[[8.0, 118.0], [170.0, 119.0], [170.0, 130.0], [8.0, 129.0]]\n",
            "[[720.0, 118.0], [734.0, 118.0], [734.0, 131.0], [720.0, 131.0]]\n",
            "[[831.0, 118.0], [847.0, 118.0], [847.0, 132.0], [831.0, 132.0]]\n",
            "[[8.0, 129.0], [103.0, 130.0], [103.0, 141.0], [8.0, 140.0]]\n",
            "[[720.0, 129.0], [735.0, 129.0], [735.0, 142.0], [720.0, 142.0]]\n",
            "[[8.0, 141.0], [81.0, 142.0], [81.0, 153.0], [8.0, 152.0]]\n",
            "[[721.0, 141.0], [735.0, 141.0], [735.0, 154.0], [721.0, 154.0]]\n",
            "[[832.0, 140.0], [847.0, 140.0], [847.0, 154.0], [832.0, 154.0]]\n",
            "[[711.0, 154.0], [735.0, 154.0], [735.0, 166.0], [711.0, 166.0]]\n",
            "[[824.0, 154.0], [848.0, 154.0], [848.0, 166.0], [824.0, 166.0]]\n",
            "[[9.0, 164.0], [66.0, 164.0], [66.0, 175.0], [9.0, 175.0]]\n",
            "[[8.0, 176.0], [112.0, 176.0], [112.0, 189.0], [8.0, 189.0]]\n",
            "[[717.0, 176.0], [733.0, 176.0], [733.0, 188.0], [717.0, 188.0]]\n",
            "[[830.0, 176.0], [847.0, 176.0], [847.0, 189.0], [830.0, 189.0]]\n",
            "[[9.0, 188.0], [89.0, 188.0], [89.0, 198.0], [9.0, 198.0]]\n",
            "[[719.0, 187.0], [733.0, 187.0], [733.0, 199.0], [719.0, 199.0]]\n",
            "[[833.0, 185.0], [848.0, 188.0], [845.0, 201.0], [830.0, 198.0]]\n",
            "[[9.0, 199.0], [91.0, 199.0], [91.0, 210.0], [9.0, 210.0]]\n",
            "[[711.0, 199.0], [733.0, 199.0], [733.0, 212.0], [711.0, 212.0]]\n",
            "[[823.0, 199.0], [847.0, 199.0], [847.0, 212.0], [823.0, 212.0]]\n",
            "[[9.0, 212.0], [107.0, 212.0], [107.0, 222.0], [9.0, 222.0]]\n",
            "[[710.0, 212.0], [733.0, 212.0], [733.0, 224.0], [710.0, 224.0]]\n",
            "[[822.0, 212.0], [846.0, 212.0], [846.0, 224.0], [822.0, 224.0]]\n",
            "[[9.0, 223.0], [85.0, 223.0], [85.0, 235.0], [9.0, 235.0]]\n",
            "[[716.0, 223.0], [734.0, 223.0], [734.0, 234.0], [716.0, 234.0]]\n",
            "[[830.0, 223.0], [847.0, 223.0], [847.0, 235.0], [830.0, 235.0]]\n",
            "[[710.0, 234.0], [735.0, 234.0], [735.0, 246.0], [710.0, 246.0]]\n",
            "[[824.0, 234.0], [847.0, 234.0], [847.0, 246.0], [824.0, 246.0]]\n",
            "[[8.0, 244.0], [57.0, 246.0], [57.0, 257.0], [8.0, 255.0]]\n",
            "[[710.0, 246.0], [735.0, 246.0], [735.0, 258.0], [710.0, 258.0]]\n",
            "[[824.0, 246.0], [847.0, 246.0], [847.0, 258.0], [824.0, 258.0]]\n",
            "[[9.0, 258.0], [88.0, 258.0], [88.0, 268.0], [9.0, 268.0]]\n",
            "[[9.0, 267.0], [37.0, 270.0], [35.0, 282.0], [7.0, 279.0]]\n",
            "[[9.0, 281.0], [59.0, 281.0], [59.0, 292.0], [9.0, 292.0]]\n",
            "[[9.0, 292.0], [83.0, 292.0], [83.0, 303.0], [9.0, 303.0]]\n",
            "[[710.0, 291.0], [733.0, 291.0], [733.0, 303.0], [710.0, 303.0]]\n",
            "[[822.0, 291.0], [847.0, 291.0], [847.0, 303.0], [822.0, 303.0]]\n",
            "[[9.0, 303.0], [69.0, 304.0], [69.0, 315.0], [9.0, 314.0]]\n",
            "[[713.0, 303.0], [736.0, 303.0], [736.0, 315.0], [713.0, 315.0]]\n",
            "[[825.0, 303.0], [848.0, 303.0], [848.0, 315.0], [825.0, 315.0]]\n",
            "[[8.0, 314.0], [63.0, 315.0], [63.0, 326.0], [8.0, 325.0]]\n",
            "[[710.0, 314.0], [734.0, 314.0], [734.0, 326.0], [710.0, 326.0]]\n",
            "[[824.0, 314.0], [847.0, 314.0], [847.0, 326.0], [824.0, 326.0]]\n",
            "[[9.0, 327.0], [80.0, 327.0], [80.0, 337.0], [9.0, 337.0]]\n",
            "[[706.0, 324.0], [736.0, 324.0], [736.0, 338.0], [706.0, 338.0]]\n",
            "[[821.0, 326.0], [849.0, 326.0], [849.0, 339.0], [821.0, 339.0]]\n",
            "[[8.0, 337.0], [172.0, 337.0], [172.0, 351.0], [8.0, 351.0]]\n",
            "[[711.0, 338.0], [734.0, 338.0], [734.0, 350.0], [711.0, 350.0]]\n",
            "[[823.0, 338.0], [848.0, 338.0], [848.0, 350.0], [823.0, 350.0]]\n",
            "[[9.0, 349.0], [93.0, 349.0], [93.0, 362.0], [9.0, 362.0]]\n",
            "[[9.0, 362.0], [85.0, 362.0], [85.0, 372.0], [9.0, 372.0]]\n",
            "[[711.0, 360.0], [733.0, 360.0], [733.0, 372.0], [711.0, 372.0]]\n",
            "[[822.0, 360.0], [848.0, 360.0], [848.0, 375.0], [822.0, 375.0]]\n",
            "[[9.0, 373.0], [65.0, 373.0], [65.0, 384.0], [9.0, 384.0]]\n",
            "[[716.0, 373.0], [734.0, 373.0], [734.0, 385.0], [716.0, 385.0]]\n",
            "[[829.0, 373.0], [847.0, 373.0], [847.0, 385.0], [829.0, 385.0]]\n",
            "[[7.0, 383.0], [144.0, 384.0], [144.0, 397.0], [7.0, 396.0]]\n",
            "[[720.0, 383.0], [735.0, 383.0], [735.0, 396.0], [720.0, 396.0]]\n",
            "[[832.0, 384.0], [847.0, 384.0], [847.0, 397.0], [832.0, 397.0]]\n",
            "[[9.0, 396.0], [49.0, 396.0], [49.0, 406.0], [9.0, 406.0]]\n",
            "[[725.0, 396.0], [734.0, 396.0], [734.0, 407.0], [725.0, 407.0]]\n",
            "[[837.0, 396.0], [846.0, 396.0], [846.0, 408.0], [837.0, 408.0]]\n",
            "[[8.0, 407.0], [87.0, 406.0], [87.0, 417.0], [8.0, 418.0]]\n",
            "[[723.0, 408.0], [734.0, 408.0], [734.0, 417.0], [723.0, 417.0]]\n",
            "[[838.0, 407.0], [847.0, 407.0], [847.0, 418.0], [838.0, 418.0]]\n",
            "[[710.0, 419.0], [735.0, 419.0], [735.0, 430.0], [710.0, 430.0]]\n",
            "[[823.0, 419.0], [848.0, 419.0], [848.0, 431.0], [823.0, 431.0]]\n",
            "[[8.0, 429.0], [76.0, 429.0], [76.0, 440.0], [8.0, 440.0]]\n",
            "[[9.0, 442.0], [102.0, 442.0], [102.0, 452.0], [9.0, 452.0]]\n",
            "[[710.0, 441.0], [734.0, 441.0], [734.0, 453.0], [710.0, 453.0]]\n",
            "[[829.0, 441.0], [847.0, 441.0], [847.0, 454.0], [829.0, 454.0]]\n",
            "[[8.0, 452.0], [80.0, 453.0], [80.0, 464.0], [8.0, 463.0]]\n",
            "[[720.0, 453.0], [734.0, 453.0], [734.0, 466.0], [720.0, 466.0]]\n",
            "[[832.0, 453.0], [847.0, 453.0], [847.0, 466.0], [832.0, 466.0]]\n",
            "[[9.0, 464.0], [74.0, 465.0], [74.0, 477.0], [9.0, 475.0]]\n",
            "[[716.0, 464.0], [734.0, 464.0], [734.0, 476.0], [716.0, 476.0]]\n",
            "[[829.0, 464.0], [846.0, 464.0], [846.0, 477.0], [829.0, 477.0]]\n",
            "[[8.0, 475.0], [145.0, 475.0], [145.0, 489.0], [8.0, 489.0]]\n",
            "[[710.0, 476.0], [733.0, 476.0], [733.0, 488.0], [710.0, 488.0]]\n",
            "[[822.0, 474.0], [848.0, 474.0], [848.0, 490.0], [822.0, 490.0]]\n",
            "[[9.0, 489.0], [49.0, 489.0], [49.0, 499.0], [9.0, 499.0]]\n",
            "[[720.0, 488.0], [735.0, 488.0], [735.0, 501.0], [720.0, 501.0]]\n",
            "[[832.0, 487.0], [848.0, 487.0], [848.0, 512.0], [832.0, 512.0]]\n",
            "[[9.0, 500.0], [79.0, 500.0], [79.0, 511.0], [9.0, 511.0]]\n",
            "[[721.0, 498.0], [735.0, 498.0], [735.0, 511.0], [721.0, 511.0]]\n",
            "[[710.0, 511.0], [735.0, 511.0], [735.0, 523.0], [710.0, 523.0]]\n",
            "[[823.0, 511.0], [847.0, 511.0], [847.0, 523.0], [823.0, 523.0]]\n",
            "[[8.0, 523.0], [68.0, 523.0], [68.0, 534.0], [8.0, 534.0]]\n",
            "[[710.0, 522.0], [734.0, 522.0], [734.0, 533.0], [710.0, 533.0]]\n",
            "[[824.0, 521.0], [847.0, 521.0], [847.0, 533.0], [824.0, 533.0]]\n",
            "[[8.0, 533.0], [109.0, 533.0], [109.0, 546.0], [8.0, 546.0]]\n",
            "[[710.0, 533.0], [735.0, 533.0], [735.0, 545.0], [710.0, 545.0]]\n",
            "[[823.0, 533.0], [847.0, 533.0], [847.0, 545.0], [823.0, 545.0]]\n"
          ]
        }
      ]
    },
    {
      "cell_type": "code",
      "source": [
        "image_boxes = image_cv.copy()"
      ],
      "metadata": {
        "id": "Cd8NHw-ZqOzL"
      },
      "execution_count": 19,
      "outputs": []
    },
    {
      "cell_type": "code",
      "source": [
        "for box, text in zip(boxes, texts):\n",
        "    # Draw rectangle\n",
        "    cv2.rectangle(image_boxes, (int(box[0][0]), int(box[0][1])), (int(box[2][0]), int(box[2][1])), (0, 0, 255), 1)\n",
        "    # Put text\n",
        "    cv2.putText(image_boxes, text, (int(box[0][0]), int(box[0][1] - 10)), cv2.FONT_HERSHEY_SIMPLEX, 0.5, (222, 0, 0), 1)\n",
        "\n",
        "# Save the image with bounding boxes\n",
        "cv2.imwrite('image_with_boxes.jpg', image_boxes[..., ::-1])"
      ],
      "metadata": {
        "colab": {
          "base_uri": "https://localhost:8080/"
        },
        "id": "PjBfYRZuMpSZ",
        "outputId": "9084b9e9-a111-48e2-8021-d6fbf3ec30d9"
      },
      "execution_count": 20,
      "outputs": [
        {
          "output_type": "execute_result",
          "data": {
            "text/plain": [
              "True"
            ]
          },
          "metadata": {},
          "execution_count": 20
        }
      ]
    },
    {
      "cell_type": "markdown",
      "source": [
        "# Reconstruction"
      ],
      "metadata": {
        "id": "4jqgn8bpbL_4"
      }
    },
    {
      "cell_type": "code",
      "source": [
        "horiz_boxes = []\n",
        "vert_boxes = []\n",
        "\n",
        "\n",
        "for box in boxes:\n",
        "  x_h, x_v = 0,int(box[0][0])\n",
        "  y_h, y_v = int(box[0][1]),0\n",
        "  width_h,width_v = image_width, int(box[2][0]-box[0][0])\n",
        "  height_h,height_v = int(box[2][1]-box[0][1]),image_height\n",
        "\n",
        "  horiz_boxes.append([x_h,y_h,x_h+width_h,y_h+height_h])\n",
        "  vert_boxes.append([x_v,y_v,x_v+width_v,y_v+height_v])\n",
        "\n",
        "  cv2.rectangle(im,(x_h,y_h), (x_h+width_h,y_h+height_h),(0,0,255),1)\n",
        "  cv2.rectangle(im,(x_v,y_v), (x_v+width_v,y_v+height_v),(0,255,0),1)"
      ],
      "metadata": {
        "id": "rplln6m3MpV8"
      },
      "execution_count": 21,
      "outputs": []
    },
    {
      "cell_type": "code",
      "source": [
        "cv2.imwrite('horiz_vert.jpg',im)"
      ],
      "metadata": {
        "colab": {
          "base_uri": "https://localhost:8080/"
        },
        "id": "ujCcHncfsVtB",
        "outputId": "5f6b3c78-4f66-4f34-eb6d-ebd06309784e"
      },
      "execution_count": 22,
      "outputs": [
        {
          "output_type": "execute_result",
          "data": {
            "text/plain": [
              "True"
            ]
          },
          "metadata": {},
          "execution_count": 22
        }
      ]
    },
    {
      "cell_type": "markdown",
      "source": [
        "# Non-Max Suppression"
      ],
      "metadata": {
        "id": "ozZuN38IuUPd"
      }
    },
    {
      "cell_type": "code",
      "source": [
        "import tensorflow as tf\n",
        "import numpy as np"
      ],
      "metadata": {
        "id": "pJYuoRQOusDI"
      },
      "execution_count": 23,
      "outputs": []
    },
    {
      "cell_type": "code",
      "source": [
        "horiz_out = tf.image.non_max_suppression(\n",
        "    horiz_boxes,\n",
        "    probs,\n",
        "    max_output_size = 1000,\n",
        "    iou_threshold=0.1,\n",
        "    score_threshold=float('-inf'),\n",
        "    name=None\n",
        ")"
      ],
      "metadata": {
        "id": "YYeRq3mOMpbu"
      },
      "execution_count": 24,
      "outputs": []
    },
    {
      "cell_type": "code",
      "source": [
        "horiz_lines = np.sort(np.array(horiz_out))\n",
        "print(horiz_lines)"
      ],
      "metadata": {
        "id": "rjBrcy2UsmEF",
        "colab": {
          "base_uri": "https://localhost:8080/"
        },
        "outputId": "bd1dc102-28ae-409e-f273-bac6156ae721"
      },
      "execution_count": 25,
      "outputs": [
        {
          "output_type": "stream",
          "name": "stdout",
          "text": [
            "[  0   1   3   4   5   8  12  14  15  19  22  25  27  29  31  33  36  38\n",
            "  41  45  47  49  52  53  54  55  58  62  65  67  70  71  76  78  82  84\n",
            "  87  88  91  94  97  98 101 105 106 109 113]\n"
          ]
        }
      ]
    },
    {
      "cell_type": "code",
      "source": [
        "im_nms = image_cv.copy()"
      ],
      "metadata": {
        "id": "6-kOTKXGugKL"
      },
      "execution_count": 26,
      "outputs": []
    },
    {
      "cell_type": "code",
      "source": [
        "for val in horiz_lines:\n",
        "  cv2.rectangle(im_nms, (int(horiz_boxes[val][0]),int(horiz_boxes[val][1])), (int(horiz_boxes[val][2]),int(horiz_boxes[val][3])),(0,0,255),1)\n"
      ],
      "metadata": {
        "id": "gBIc4ay9ujMV"
      },
      "execution_count": 27,
      "outputs": []
    },
    {
      "cell_type": "code",
      "source": [
        "cv2.imwrite('im_nms.jpg',im_nms)"
      ],
      "metadata": {
        "colab": {
          "base_uri": "https://localhost:8080/"
        },
        "id": "mPYvYEXCujR_",
        "outputId": "84a75d41-744d-4c06-f128-bf2bb8ae398e"
      },
      "execution_count": 28,
      "outputs": [
        {
          "output_type": "execute_result",
          "data": {
            "text/plain": [
              "True"
            ]
          },
          "metadata": {},
          "execution_count": 28
        }
      ]
    },
    {
      "cell_type": "code",
      "source": [
        "vert_out = tf.image.non_max_suppression(\n",
        "    vert_boxes,\n",
        "    probs,\n",
        "    max_output_size = 1000,\n",
        "    iou_threshold=0.1,\n",
        "    score_threshold=float('-inf'),\n",
        "    name=None\n",
        ")"
      ],
      "metadata": {
        "id": "hR6COyUNu69k"
      },
      "execution_count": 29,
      "outputs": []
    },
    {
      "cell_type": "code",
      "source": [
        "print(vert_out)"
      ],
      "metadata": {
        "colab": {
          "base_uri": "https://localhost:8080/"
        },
        "id": "XAGpyxPhvH96",
        "outputId": "fe786052-fe4e-4983-d265-0fcded04e001"
      },
      "execution_count": 30,
      "outputs": [
        {
          "output_type": "stream",
          "name": "stdout",
          "text": [
            "tf.Tensor([106 101 113   3   2], shape=(5,), dtype=int32)\n"
          ]
        }
      ]
    },
    {
      "cell_type": "code",
      "source": [
        "vert_lines = np.sort(np.array(vert_out))\n",
        "print(vert_lines)"
      ],
      "metadata": {
        "colab": {
          "base_uri": "https://localhost:8080/"
        },
        "id": "K88On72ZvIAq",
        "outputId": "d8c5b836-3188-4378-9109-97ebe87fcf75"
      },
      "execution_count": 31,
      "outputs": [
        {
          "output_type": "stream",
          "name": "stdout",
          "text": [
            "[  2   3 101 106 113]\n"
          ]
        }
      ]
    },
    {
      "cell_type": "code",
      "source": [
        "for val in vert_lines:\n",
        "  cv2.rectangle(im_nms, (int(vert_boxes[val][0]),int(vert_boxes[val][1])), (int(vert_boxes[val][2]),int(vert_boxes[val][3])),(255,0,0),1)\n"
      ],
      "metadata": {
        "id": "9pE-wz7UvIDp"
      },
      "execution_count": 32,
      "outputs": []
    },
    {
      "cell_type": "code",
      "source": [
        "cv2.imwrite('im_nms.jpg',im_nms)"
      ],
      "metadata": {
        "colab": {
          "base_uri": "https://localhost:8080/"
        },
        "id": "xhNuBYakvIGc",
        "outputId": "9ad33458-1863-4062-a80f-fb11d8ea2b67"
      },
      "execution_count": 33,
      "outputs": [
        {
          "output_type": "execute_result",
          "data": {
            "text/plain": [
              "True"
            ]
          },
          "metadata": {},
          "execution_count": 33
        }
      ]
    },
    {
      "cell_type": "markdown",
      "source": [
        "# Convert to CSV"
      ],
      "metadata": {
        "id": "u_PoacmQvRW3"
      }
    },
    {
      "cell_type": "code",
      "source": [
        "import pandas as pd"
      ],
      "metadata": {
        "id": "y-JNg26Lv2BP"
      },
      "execution_count": 34,
      "outputs": []
    },
    {
      "cell_type": "code",
      "source": [
        "out_array = [[\"\" for i in range(len(vert_lines))] for j in range(len(horiz_lines))]\n",
        "print(np.array(out_array).shape)\n",
        "print(out_array)"
      ],
      "metadata": {
        "colab": {
          "base_uri": "https://localhost:8080/"
        },
        "id": "CJMgx3i5vIJp",
        "outputId": "f71240a6-5802-4e09-d444-28353b0a96ab"
      },
      "execution_count": 35,
      "outputs": [
        {
          "output_type": "stream",
          "name": "stdout",
          "text": [
            "(47, 5)\n",
            "[['', '', '', '', ''], ['', '', '', '', ''], ['', '', '', '', ''], ['', '', '', '', ''], ['', '', '', '', ''], ['', '', '', '', ''], ['', '', '', '', ''], ['', '', '', '', ''], ['', '', '', '', ''], ['', '', '', '', ''], ['', '', '', '', ''], ['', '', '', '', ''], ['', '', '', '', ''], ['', '', '', '', ''], ['', '', '', '', ''], ['', '', '', '', ''], ['', '', '', '', ''], ['', '', '', '', ''], ['', '', '', '', ''], ['', '', '', '', ''], ['', '', '', '', ''], ['', '', '', '', ''], ['', '', '', '', ''], ['', '', '', '', ''], ['', '', '', '', ''], ['', '', '', '', ''], ['', '', '', '', ''], ['', '', '', '', ''], ['', '', '', '', ''], ['', '', '', '', ''], ['', '', '', '', ''], ['', '', '', '', ''], ['', '', '', '', ''], ['', '', '', '', ''], ['', '', '', '', ''], ['', '', '', '', ''], ['', '', '', '', ''], ['', '', '', '', ''], ['', '', '', '', ''], ['', '', '', '', ''], ['', '', '', '', ''], ['', '', '', '', ''], ['', '', '', '', ''], ['', '', '', '', ''], ['', '', '', '', ''], ['', '', '', '', ''], ['', '', '', '', '']]\n"
          ]
        }
      ]
    },
    {
      "cell_type": "code",
      "source": [
        "unordered_boxes = []\n",
        "\n",
        "for i in vert_lines:\n",
        "  print(vert_boxes[i])\n",
        "  unordered_boxes.append(vert_boxes[i][0])"
      ],
      "metadata": {
        "colab": {
          "base_uri": "https://localhost:8080/"
        },
        "id": "2-1_lUjWvZZr",
        "outputId": "82d6915d-18e9-4adc-8cd8-c00c4158838b"
      },
      "execution_count": 36,
      "outputs": [
        {
          "output_type": "stream",
          "name": "stdout",
          "text": [
            "[652, 0, 711, 548]\n",
            "[757, 0, 830, 548]\n",
            "[9, 0, 49, 548]\n",
            "[710, 0, 735, 548]\n",
            "[823, 0, 847, 548]\n"
          ]
        }
      ]
    },
    {
      "cell_type": "code",
      "source": [
        "ordered_boxes = np.argsort(unordered_boxes)\n",
        "print(ordered_boxes)"
      ],
      "metadata": {
        "colab": {
          "base_uri": "https://localhost:8080/"
        },
        "id": "Yqf-kPf_vZcI",
        "outputId": "7341d9e0-fd7d-4636-9a03-12075039597a"
      },
      "execution_count": 37,
      "outputs": [
        {
          "output_type": "stream",
          "name": "stdout",
          "text": [
            "[2 0 3 1 4]\n"
          ]
        }
      ]
    },
    {
      "cell_type": "code",
      "source": [
        "def intersection(box_1, box_2):\n",
        "  return [box_2[0], box_1[1],box_2[2], box_1[3]]"
      ],
      "metadata": {
        "id": "Ag5KMvHfvZek"
      },
      "execution_count": 38,
      "outputs": []
    },
    {
      "cell_type": "code",
      "source": [
        "def iou(box_1, box_2):\n",
        "\n",
        "  x_1 = max(box_1[0], box_2[0])\n",
        "  y_1 = max(box_1[1], box_2[1])\n",
        "  x_2 = min(box_1[2], box_2[2])\n",
        "  y_2 = min(box_1[3], box_2[3])\n",
        "\n",
        "  inter = abs(max((x_2 - x_1, 0)) * max((y_2 - y_1), 0))\n",
        "  if inter == 0:\n",
        "      return 0\n",
        "\n",
        "  box_1_area = abs((box_1[2] - box_1[0]) * (box_1[3] - box_1[1]))\n",
        "  box_2_area = abs((box_2[2] - box_2[0]) * (box_2[3] - box_2[1]))\n",
        "\n",
        "  return inter / float(box_1_area + box_2_area - inter)"
      ],
      "metadata": {
        "id": "_NW31rrqvZg-"
      },
      "execution_count": 39,
      "outputs": []
    },
    {
      "cell_type": "code",
      "source": [
        "for i in range(len(horiz_lines)):\n",
        "  for j in range(len(vert_lines)):\n",
        "    resultant = intersection(horiz_boxes[horiz_lines[i]], vert_boxes[vert_lines[ordered_boxes[j]]] )\n",
        "\n",
        "    for b in range(len(boxes)):\n",
        "      the_box = [boxes[b][0][0],boxes[b][0][1],boxes[b][2][0],boxes[b][2][1]]\n",
        "      if(iou(resultant,the_box)>0.1):\n",
        "        out_array[i][j] = texts[b]"
      ],
      "metadata": {
        "id": "GaN0lpA5vZkW"
      },
      "execution_count": 40,
      "outputs": []
    },
    {
      "cell_type": "code",
      "source": [
        "out_array=np.array(out_array)"
      ],
      "metadata": {
        "id": "JWKO5MjQvinH"
      },
      "execution_count": 41,
      "outputs": []
    },
    {
      "cell_type": "code",
      "source": [
        "out_array"
      ],
      "metadata": {
        "colab": {
          "base_uri": "https://localhost:8080/"
        },
        "id": "6DO9QOeHvjHO",
        "outputId": "f92db30f-89fc-4a36-ecb7-15ecb0b7dd89"
      },
      "execution_count": 42,
      "outputs": [
        {
          "output_type": "execute_result",
          "data": {
            "text/plain": [
              "array([['(Unaudited)', '', '', '', ''],\n",
              "       ['(in  millions)', '', '', '', ''],\n",
              "       ['', 'March 31.2024', '', 'December 31,2023', ''],\n",
              "       ['Assets', '', '', '', ''],\n",
              "       ['Non-current assets', '', '', '', ''],\n",
              "       ['Lease right-of-use assels', '', '274', '', '300'],\n",
              "       ['Goodwill', '', '224', '', '247'],\n",
              "       ['Goodwill', '', '1,159', '', '84'],\n",
              "       ['Intangible assets', '', '76', '', '84'],\n",
              "       ['Long lerm investnents', '', '1,534', '', '1.215'],\n",
              "       ['Restricted cash and other non-current assets', '', '72', '',\n",
              "        '75'],\n",
              "       ['Finance lease receivables', '', '51', '', ''],\n",
              "       ['Deferred tax assets', '', '41', '', '28'],\n",
              "       ['', '', '3,431', '', '3,086'],\n",
              "       ['Current assets', '', '', '', ''],\n",
              "       ['Trade and oter receivables', '', '777', '', '858'],\n",
              "       ['Income tax receivable', '', '21', '', '20'],\n",
              "       ['Short term invesiments', '', '1.220', '', '1,100'],\n",
              "       ['Cash and cash equivalents', '', '3,451', '', '3,114'],\n",
              "       ['Other current assets', '', '175', '', '168'],\n",
              "       ['', '', '5,644', '', '5,260'],\n",
              "       ['Total assets', '', '9,075', '', '8,346'],\n",
              "       ['Equity and liabilities', '', '', '', ''],\n",
              "       ['Equity', '', '', '', ''],\n",
              "       ['Share capital', '', '', '', ''],\n",
              "       ['Other paid in capital', '', '5,397', '', '5,155'],\n",
              "       ['Treasury shares', '', '(262)', '', '(262)'],\n",
              "       ['Other reserves', '', '2,159', '', '1,812'],\n",
              "       ['Accumulated deficit', '', '(3,985)', '', '(4,182)'],\n",
              "       ['Equity attributable to owners of the parent', '', '3,309', '',\n",
              "        '2,523'],\n",
              "       ['Non-current liabilities', '', '', '', ''],\n",
              "       ['Exchangeable Notes', '', '1,270', '', '1,203'],\n",
              "       ['Lease labilities', '', '493', '', '493'],\n",
              "       ['Accrued expenses and other liabilities', '', '17', '', '26'],\n",
              "       ['Provisions', '', '3', '', '3'],\n",
              "       ['Deferred tax labilfes', '', '17', '', '8'],\n",
              "       ['', '', '1.800', '', '1,733'],\n",
              "       ['Current liabilities', '', '', '', ''],\n",
              "       ['Trade and other payables', '', '1,048', '', '978'],\n",
              "       ['Income tax payable', '', '14', '', '12'],\n",
              "       ['Deferred revenue', '', '634', '', '2,440'],\n",
              "       ['Accrued expenses and other liabilities', '', '2.228', '',\n",
              "        '2,440'],\n",
              "       ['Provisions', '', '20', '', '2'],\n",
              "       ['Denvalive liabiities', '', '22', '', '2'],\n",
              "       ['', '', '3,966', '', '4,090'],\n",
              "       ['Total liabilities', '', '5,766', '', '5,823'],\n",
              "       ['Total equity and liabilities', '', '9,075', '', '8,346']],\n",
              "      dtype='<U44')"
            ]
          },
          "metadata": {},
          "execution_count": 42
        }
      ]
    },
    {
      "cell_type": "code",
      "source": [
        "def shift_element(array, target, new_position):\n",
        "    for i in range(len(array)):\n",
        "        for j in range(len(array[i])):\n",
        "            if array[i][j] == target:\n",
        "                array[i][j] = ''  # Remove the element from the current position\n",
        "                if new_position < len(array[i]):\n",
        "                    array[i][new_position] = target  # Place the element in the new position\n",
        "                else:\n",
        "                    array[i].append(target)  # Add the element to the end if the new position is out of bounds\n",
        "                return array\n",
        "    return array\n",
        "\n",
        "for i in range(len(horiz_lines)):\n",
        "    for j in range(len(vert_lines)):\n",
        "        resultant = intersection(horiz_boxes[horiz_lines[i]], vert_boxes[vert_lines[ordered_boxes[j]]])\n",
        "\n",
        "        for b in range(len(boxes)):\n",
        "            the_box = [boxes[b][0][0], boxes[b][0][1], boxes[b][2][0], boxes[b][2][1]]\n",
        "            if iou(resultant, the_box) > 0.1:\n",
        "                out_array[i][j] = texts[b]\n",
        "\n",
        "# Convert the list to a numpy array\n",
        "out_array = np.array(out_array)\n",
        "\n",
        "\n",
        "# Shift the elements 'March 31.2024' and 'December 31,2023' one place forward\n",
        "out_array_list = out_array.tolist()\n",
        "out_array_list = shift_element(out_array_list, 'March 31.2024', 2)\n",
        "out_array_list = shift_element(out_array_list, 'December 31,2023', 4)\n",
        "\n",
        "# Convert back to a numpy array if needed\n",
        "out_array = np.array(out_array_list)\n",
        "\n",
        "print(out_array)"
      ],
      "metadata": {
        "colab": {
          "base_uri": "https://localhost:8080/"
        },
        "id": "4RVxw_4LzXWh",
        "outputId": "45429675-74d2-4c4a-e50f-ae57c0040bc7"
      },
      "execution_count": 43,
      "outputs": [
        {
          "output_type": "stream",
          "name": "stdout",
          "text": [
            "[['(Unaudited)' '' '' '' '']\n",
            " ['(in  millions)' '' '' '' '']\n",
            " ['' '' 'March 31.2024' '' 'December 31,2023']\n",
            " ['Assets' '' '' '' '']\n",
            " ['Non-current assets' '' '' '' '']\n",
            " ['Lease right-of-use assels' '' '274' '' '300']\n",
            " ['Goodwill' '' '224' '' '247']\n",
            " ['Goodwill' '' '1,159' '' '84']\n",
            " ['Intangible assets' '' '76' '' '84']\n",
            " ['Long lerm investnents' '' '1,534' '' '1.215']\n",
            " ['Restricted cash and other non-current assets' '' '72' '' '75']\n",
            " ['Finance lease receivables' '' '51' '' '']\n",
            " ['Deferred tax assets' '' '41' '' '28']\n",
            " ['' '' '3,431' '' '3,086']\n",
            " ['Current assets' '' '' '' '']\n",
            " ['Trade and oter receivables' '' '777' '' '858']\n",
            " ['Income tax receivable' '' '21' '' '20']\n",
            " ['Short term invesiments' '' '1.220' '' '1,100']\n",
            " ['Cash and cash equivalents' '' '3,451' '' '3,114']\n",
            " ['Other current assets' '' '175' '' '168']\n",
            " ['' '' '5,644' '' '5,260']\n",
            " ['Total assets' '' '9,075' '' '8,346']\n",
            " ['Equity and liabilities' '' '' '' '']\n",
            " ['Equity' '' '' '' '']\n",
            " ['Share capital' '' '' '' '']\n",
            " ['Other paid in capital' '' '5,397' '' '5,155']\n",
            " ['Treasury shares' '' '(262)' '' '(262)']\n",
            " ['Other reserves' '' '2,159' '' '1,812']\n",
            " ['Accumulated deficit' '' '(3,985)' '' '(4,182)']\n",
            " ['Equity attributable to owners of the parent' '' '3,309' '' '2,523']\n",
            " ['Non-current liabilities' '' '' '' '']\n",
            " ['Exchangeable Notes' '' '1,270' '' '1,203']\n",
            " ['Lease labilities' '' '493' '' '493']\n",
            " ['Accrued expenses and other liabilities' '' '17' '' '26']\n",
            " ['Provisions' '' '3' '' '3']\n",
            " ['Deferred tax labilfes' '' '17' '' '8']\n",
            " ['' '' '1.800' '' '1,733']\n",
            " ['Current liabilities' '' '' '' '']\n",
            " ['Trade and other payables' '' '1,048' '' '978']\n",
            " ['Income tax payable' '' '14' '' '12']\n",
            " ['Deferred revenue' '' '634' '' '2,440']\n",
            " ['Accrued expenses and other liabilities' '' '2.228' '' '2,440']\n",
            " ['Provisions' '' '20' '' '2']\n",
            " ['Denvalive liabiities' '' '22' '' '2']\n",
            " ['' '' '3,966' '' '4,090']\n",
            " ['Total liabilities' '' '5,766' '' '5,823']\n",
            " ['Total equity and liabilities' '' '9,075' '' '8,346']]\n"
          ]
        }
      ]
    },
    {
      "cell_type": "code",
      "source": [
        "pd.DataFrame(out_array).to_csv('sample.csv')"
      ],
      "metadata": {
        "id": "ntToSlRYvjKd"
      },
      "execution_count": 44,
      "outputs": []
    }
  ]
}